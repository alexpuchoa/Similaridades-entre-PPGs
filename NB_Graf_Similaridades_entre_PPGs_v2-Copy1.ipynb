{
 "cells": [
  {
   "cell_type": "markdown",
   "metadata": {
    "toc": true
   },
   "source": [
    "<h1>Conteúdo<span class=\"tocSkip\"></span></h1>\n",
    "<div class=\"toc\"><ul class=\"toc-item\"><li><span><a href=\"#Similaridade-entre-PPGs-de-mesmas-área,-IES-e/ou-UF\" data-toc-modified-id=\"Similaridade-entre-PPGs-de-mesmas-área,-IES-e/ou-UF-1\"><span class=\"toc-item-num\">1&nbsp;&nbsp;</span>Similaridade entre PPGs de mesmas área, IES e/ou UF</a></span></li><li><span><a href=\"#Lista-de-PPGs-e-suas-características-semânticas\" data-toc-modified-id=\"Lista-de-PPGs-e-suas-características-semânticas-2\"><span class=\"toc-item-num\">2&nbsp;&nbsp;</span>Lista de PPGs e suas características semânticas</a></span></li></ul></div>"
   ]
  },
  {
   "cell_type": "code",
   "execution_count": 3,
   "metadata": {
    "hide_input": true,
    "init_cell": true,
    "tags": [
     "init"
    ]
   },
   "outputs": [
    {
     "name": "stdout",
     "output_type": "stream",
     "text": [
      "The autoreload extension is already loaded. To reload it, use:\n",
      "  %reload_ext autoreload\n"
     ]
    }
   ],
   "source": [
    "%load_ext autoreload\n",
    "%autoreload 2\n",
    "\n",
    "from IPython.core.interactiveshell import InteractiveShell\n",
    "InteractiveShell.ast_node_interactivity = \"all\"\n",
    "\n",
    "import qgrid\n",
    "\n",
    "import imp\n",
    "import sys\n",
    "sys.path.append('..')\n",
    "\n",
    "import graficos_similaridades_entre_ppgs_v4_distrib as GSP"
   ]
  },
  {
   "cell_type": "markdown",
   "metadata": {
    "deletable": false,
    "editable": false
   },
   "source": [
    "# Similaridade entre PPGs de mesmas área, IES e/ou UF"
   ]
  },
  {
   "cell_type": "markdown",
   "metadata": {},
   "source": [
    "***\n",
    "* O intuito dessa visualização é possibilitar a identificação rápida de PPGs de mesmas áreas de avaliação, UFs e ou IES que exibam semelhanças entre as suas produções acadêmicas (teses e dissertações).\n",
    "* A semelhança (aqui chamada similaridade) entre duas entidades é uma métrica comparativa, não absoluta, que se destina a dar uma ordem de grandeza à proximidade semântica de produções.\n",
    "* As similaridades aqui exibidas derivam e se aplicam exclusivamente ao corpus utilizado. Como explicado na [documentação](./NB_Doc_Similaridades_entre_PPGs_v3.ipynb), é uma medida de proximidade probabilística entre o conteúdo das aprox. 430 mil teses e dissetações defendidas entre 2013 a 2018 pelos aprox. 4.300 programas de pós-graduação.\n",
    "* Com o intuito de prover uma referência do que pode ser considerada uma similaridade alta ou baixa nesse corpus, é adotada uma escala de percentis que vai da mais baixa similaridade encontrada entre dois PPGs a mais alta. \n",
    "* Os cálculos de similaridade semântica são aqui realizados dinâmicamente. Por isso, a quantidade de PPGs selecionados tem grande impacto no desempenho e no tempo de resposta.\n",
    "***\n",
    "Faça sua seleção de filtros e clique no botão **Run Interact** para submeter a sua busca.\n",
    " \n",
    "**Área de Partida**: seleciona a área cujos PPGs servirão como referência de partida para a busca de similaridades.\n",
    "\n",
    "**Área dos Similares**: permite se restringir a busca aos PPGs de uma ou mais áreas específicas. Use *<ctrl+click>* ou *<ctrl+shift>* para selecionar várias. Caso não se queira restringir a nenhuma área, selecione *\"Todas\"*.\n",
    "\n",
    "**UF**: fitra os PPGs de partida por sua unidade da federação.\n",
    "\n",
    "**Percentil**: seleciona a faixa de *similaridades* toleráveis, em %. As *similaridades* mais altas estão nos *percentis* também mais elevados.\n",
    "\n",
    "**Somente PPGs de mesma UF**: garante que somente casos de semelhanças entre PPGs de *mesma UF* serão recuperados, caso alguma *UF* tenha sido indicada.\n",
    "\n",
    "**Somente PPGs de mesma IES**: fará com que somente casos de semelhanças entre PPGs que sejam da *mesma IES* sejam recuperados.\n",
    "***\n",
    "**Legenda do grafo**\n",
    "* As cores são meramente ilustrativas e visam tornar o reconhecimento dos casos de UFs e/ou áreas diferentes mais fácil.\n",
    "* O tamanho dos círculos do grafo indicam a quantidade de teses/dissertações dos PPGs correspondentes\n",
    "* A cor interna de cada círculo corresponde a **Área** à qual o PPG pertence, e a cor da borda a sua **UF**\n",
    "* Arestas ligam PPGs que possuem similaridade igual ou superior a do percentil selecionado\n",
    "* Para detalhes dos casos encontrados, consulte a tabela logo abaixo do grafo\n",
    "***\n",
    "**Atenção:** para garantir a execução pela primeira vez, **clique sobre a célula abaixo** e no botão ***Run*** do menu"
   ]
  },
  {
   "cell_type": "code",
   "execution_count": 4,
   "metadata": {
    "hide_input": false,
    "init_cell": true,
    "scrolled": false,
    "tags": [
     "main",
     "=>init"
    ]
   },
   "outputs": [
    {
     "data": {
      "text/plain": [
       "<module 'graficos_similaridades_entre_ppgs_v4_distrib' from 'C:\\\\Users\\\\auchoa\\\\Google Drive\\\\- DEVELOP\\\\_Github\\\\Similaridades-entre-PPGs\\\\graficos_similaridades_entre_ppgs_v4_distrib.py'>"
      ]
     },
     "execution_count": 4,
     "metadata": {},
     "output_type": "execute_result"
    },
    {
     "name": "stdout",
     "output_type": "stream",
     "text": [
      "Por favor, aguarde. Vários módulos estão sendo carregados...\n"
     ]
    },
    {
     "ename": "OSError",
     "evalue": "Unable to open file (unable to open file: name = 'C:/Users/auchoa/Google Drive/- DEVELOP/_Github/Similaridades-entre-PPGs/modelos/0_d2v-teses-topicos_model.mm.docvecs.vectors_docs.hdf5', errno = 2, error message = 'No such file or directory', flags = 0, o_flags = 0)",
     "output_type": "error",
     "traceback": [
      "\u001b[1;31m---------------------------------------------------------------------------\u001b[0m",
      "\u001b[1;31mOSError\u001b[0m                                   Traceback (most recent call last)",
      "\u001b[1;32m<ipython-input-4-849e81a6917c>\u001b[0m in \u001b[0;36m<module>\u001b[1;34m\u001b[0m\n\u001b[0;32m      1\u001b[0m \u001b[0mimp\u001b[0m\u001b[1;33m.\u001b[0m\u001b[0mreload\u001b[0m\u001b[1;33m(\u001b[0m\u001b[0mGSP\u001b[0m\u001b[1;33m)\u001b[0m\u001b[1;33m\u001b[0m\u001b[1;33m\u001b[0m\u001b[0m\n\u001b[1;32m----> 2\u001b[1;33m \u001b[0mgsp\u001b[0m\u001b[1;33m=\u001b[0m\u001b[0mGSP\u001b[0m\u001b[1;33m.\u001b[0m\u001b[0mGraficos\u001b[0m\u001b[1;33m(\u001b[0m\u001b[1;33m)\u001b[0m\u001b[1;33m\u001b[0m\u001b[1;33m\u001b[0m\u001b[0m\n\u001b[0m\u001b[0;32m      3\u001b[0m \u001b[0mgsp\u001b[0m\u001b[1;33m.\u001b[0m\u001b[0mgrafo_ppgs\u001b[0m\u001b[1;33m(\u001b[0m\u001b[1;33m)\u001b[0m\u001b[1;33m\u001b[0m\u001b[1;33m\u001b[0m\u001b[0m\n",
      "\u001b[1;32m~\\Google Drive\\- DEVELOP\\_Github\\Similaridades-entre-PPGs\\graficos_similaridades_entre_ppgs_v4_distrib.py\u001b[0m in \u001b[0;36m__init__\u001b[1;34m(self, modelo_fn)\u001b[0m\n\u001b[0;32m     39\u001b[0m \u001b[1;33m\u001b[0m\u001b[0m\n\u001b[0;32m     40\u001b[0m                 \u001b[0mprint\u001b[0m\u001b[1;33m(\u001b[0m\u001b[1;34m'Por favor, aguarde. Vários módulos estão sendo carregados...'\u001b[0m\u001b[1;33m)\u001b[0m\u001b[1;33m\u001b[0m\u001b[1;33m\u001b[0m\u001b[0m\n\u001b[1;32m---> 41\u001b[1;33m                 \u001b[0mself\u001b[0m\u001b[1;33m.\u001b[0m\u001b[0mms\u001b[0m \u001b[1;33m=\u001b[0m \u001b[0mMS\u001b[0m\u001b[1;33m.\u001b[0m\u001b[0mMaisSimilar_Short\u001b[0m\u001b[1;33m(\u001b[0m\u001b[0mmodelo_fn\u001b[0m\u001b[1;33m=\u001b[0m\u001b[0mself\u001b[0m\u001b[1;33m.\u001b[0m\u001b[0mmodelo_fn\u001b[0m\u001b[1;33m)\u001b[0m\u001b[1;33m\u001b[0m\u001b[1;33m\u001b[0m\u001b[0m\n\u001b[0m\u001b[0;32m     42\u001b[0m \u001b[1;33m\u001b[0m\u001b[0m\n\u001b[0;32m     43\u001b[0m                 \u001b[1;31m# Le arquivo previamente preparado com metadados de PPGs\u001b[0m\u001b[1;33m\u001b[0m\u001b[1;33m\u001b[0m\u001b[1;33m\u001b[0m\u001b[0m\n",
      "\u001b[1;32m~\\Google Drive\\- DEVELOP\\_Github\\Similaridades-entre-PPGs\\maissimilar_short_v5.py\u001b[0m in \u001b[0;36m__init__\u001b[1;34m(self, modelo_fn)\u001b[0m\n\u001b[0;32m     40\u001b[0m                 \u001b[0mself\u001b[0m\u001b[1;33m.\u001b[0m\u001b[0mtipo_producao\u001b[0m      \u001b[1;33m=\u001b[0m \u001b[1;34m'teses'\u001b[0m\u001b[1;33m\u001b[0m\u001b[1;33m\u001b[0m\u001b[0m\n\u001b[0;32m     41\u001b[0m                 \u001b[0mself\u001b[0m\u001b[1;33m.\u001b[0m\u001b[0musa_hdf5\u001b[0m           \u001b[1;33m=\u001b[0m \u001b[1;32mTrue\u001b[0m\u001b[1;33m\u001b[0m\u001b[1;33m\u001b[0m\u001b[0m\n\u001b[1;32m---> 42\u001b[1;33m                 \u001b[0mself\u001b[0m\u001b[1;33m.\u001b[0m\u001b[0mload_modelo_hdf5\u001b[0m\u001b[1;33m(\u001b[0m\u001b[0mmodelo_fn\u001b[0m\u001b[1;33m=\u001b[0m\u001b[0mmodelo_fn\u001b[0m\u001b[1;33m)\u001b[0m\u001b[1;33m\u001b[0m\u001b[1;33m\u001b[0m\u001b[0m\n\u001b[0m\u001b[0;32m     43\u001b[0m \u001b[1;33m\u001b[0m\u001b[0m\n\u001b[0;32m     44\u001b[0m \u001b[1;33m\u001b[0m\u001b[0m\n",
      "\u001b[1;32m~\\Google Drive\\- DEVELOP\\_Github\\Similaridades-entre-PPGs\\maissimilar_short_v5.py\u001b[0m in \u001b[0;36mload_modelo_hdf5\u001b[1;34m(self, modelo_fn)\u001b[0m\n\u001b[0;32m     76\u001b[0m \u001b[1;33m\u001b[0m\u001b[0m\n\u001b[0;32m     77\u001b[0m                 \u001b[1;31m# Abre HDF5 com docvecs\u001b[0m\u001b[1;33m\u001b[0m\u001b[1;33m\u001b[0m\u001b[1;33m\u001b[0m\u001b[0m\n\u001b[1;32m---> 78\u001b[1;33m                 \u001b[0mh5py_f1\u001b[0m \u001b[1;33m=\u001b[0m \u001b[0mh5py\u001b[0m\u001b[1;33m.\u001b[0m\u001b[0mFile\u001b[0m\u001b[1;33m(\u001b[0m\u001b[0mpasta_modelos\u001b[0m \u001b[1;33m+\u001b[0m \u001b[0mself\u001b[0m\u001b[1;33m.\u001b[0m\u001b[0mdocvecs_dv_fn\u001b[0m\u001b[1;33m,\u001b[0m \u001b[1;34m'r'\u001b[0m\u001b[1;33m)\u001b[0m\u001b[1;33m\u001b[0m\u001b[1;33m\u001b[0m\u001b[0m\n\u001b[0m\u001b[0;32m     79\u001b[0m                 \u001b[0mself\u001b[0m\u001b[1;33m.\u001b[0m\u001b[0md2v_docvecs\u001b[0m \u001b[1;33m=\u001b[0m \u001b[0mh5py_f1\u001b[0m\u001b[1;33m[\u001b[0m\u001b[1;34m'docvecs'\u001b[0m\u001b[1;33m]\u001b[0m\u001b[1;33m\u001b[0m\u001b[1;33m\u001b[0m\u001b[0m\n\u001b[0;32m     80\u001b[0m \u001b[1;33m\u001b[0m\u001b[0m\n",
      "\u001b[1;32m~\\Anaconda3\\Lib\\site-packages\\h5py\\_hl\\files.py\u001b[0m in \u001b[0;36m__init__\u001b[1;34m(self, name, mode, driver, libver, userblock_size, swmr, rdcc_nslots, rdcc_nbytes, rdcc_w0, track_order, **kwds)\u001b[0m\n\u001b[0;32m    406\u001b[0m                 fid = make_fid(name, mode, userblock_size,\n\u001b[0;32m    407\u001b[0m                                \u001b[0mfapl\u001b[0m\u001b[1;33m,\u001b[0m \u001b[0mfcpl\u001b[0m\u001b[1;33m=\u001b[0m\u001b[0mmake_fcpl\u001b[0m\u001b[1;33m(\u001b[0m\u001b[0mtrack_order\u001b[0m\u001b[1;33m=\u001b[0m\u001b[0mtrack_order\u001b[0m\u001b[1;33m)\u001b[0m\u001b[1;33m,\u001b[0m\u001b[1;33m\u001b[0m\u001b[1;33m\u001b[0m\u001b[0m\n\u001b[1;32m--> 408\u001b[1;33m                                swmr=swmr)\n\u001b[0m\u001b[0;32m    409\u001b[0m \u001b[1;33m\u001b[0m\u001b[0m\n\u001b[0;32m    410\u001b[0m             \u001b[1;32mif\u001b[0m \u001b[0misinstance\u001b[0m\u001b[1;33m(\u001b[0m\u001b[0mlibver\u001b[0m\u001b[1;33m,\u001b[0m \u001b[0mtuple\u001b[0m\u001b[1;33m)\u001b[0m\u001b[1;33m:\u001b[0m\u001b[1;33m\u001b[0m\u001b[1;33m\u001b[0m\u001b[0m\n",
      "\u001b[1;32m~\\Anaconda3\\Lib\\site-packages\\h5py\\_hl\\files.py\u001b[0m in \u001b[0;36mmake_fid\u001b[1;34m(name, mode, userblock_size, fapl, fcpl, swmr)\u001b[0m\n\u001b[0;32m    171\u001b[0m         \u001b[1;32mif\u001b[0m \u001b[0mswmr\u001b[0m \u001b[1;32mand\u001b[0m \u001b[0mswmr_support\u001b[0m\u001b[1;33m:\u001b[0m\u001b[1;33m\u001b[0m\u001b[1;33m\u001b[0m\u001b[0m\n\u001b[0;32m    172\u001b[0m             \u001b[0mflags\u001b[0m \u001b[1;33m|=\u001b[0m \u001b[0mh5f\u001b[0m\u001b[1;33m.\u001b[0m\u001b[0mACC_SWMR_READ\u001b[0m\u001b[1;33m\u001b[0m\u001b[1;33m\u001b[0m\u001b[0m\n\u001b[1;32m--> 173\u001b[1;33m         \u001b[0mfid\u001b[0m \u001b[1;33m=\u001b[0m \u001b[0mh5f\u001b[0m\u001b[1;33m.\u001b[0m\u001b[0mopen\u001b[0m\u001b[1;33m(\u001b[0m\u001b[0mname\u001b[0m\u001b[1;33m,\u001b[0m \u001b[0mflags\u001b[0m\u001b[1;33m,\u001b[0m \u001b[0mfapl\u001b[0m\u001b[1;33m=\u001b[0m\u001b[0mfapl\u001b[0m\u001b[1;33m)\u001b[0m\u001b[1;33m\u001b[0m\u001b[1;33m\u001b[0m\u001b[0m\n\u001b[0m\u001b[0;32m    174\u001b[0m     \u001b[1;32melif\u001b[0m \u001b[0mmode\u001b[0m \u001b[1;33m==\u001b[0m \u001b[1;34m'r+'\u001b[0m\u001b[1;33m:\u001b[0m\u001b[1;33m\u001b[0m\u001b[1;33m\u001b[0m\u001b[0m\n\u001b[0;32m    175\u001b[0m         \u001b[0mfid\u001b[0m \u001b[1;33m=\u001b[0m \u001b[0mh5f\u001b[0m\u001b[1;33m.\u001b[0m\u001b[0mopen\u001b[0m\u001b[1;33m(\u001b[0m\u001b[0mname\u001b[0m\u001b[1;33m,\u001b[0m \u001b[0mh5f\u001b[0m\u001b[1;33m.\u001b[0m\u001b[0mACC_RDWR\u001b[0m\u001b[1;33m,\u001b[0m \u001b[0mfapl\u001b[0m\u001b[1;33m=\u001b[0m\u001b[0mfapl\u001b[0m\u001b[1;33m)\u001b[0m\u001b[1;33m\u001b[0m\u001b[1;33m\u001b[0m\u001b[0m\n",
      "\u001b[1;32mh5py\\_objects.pyx\u001b[0m in \u001b[0;36mh5py._objects.with_phil.wrapper\u001b[1;34m()\u001b[0m\n",
      "\u001b[1;32mh5py\\_objects.pyx\u001b[0m in \u001b[0;36mh5py._objects.with_phil.wrapper\u001b[1;34m()\u001b[0m\n",
      "\u001b[1;32mh5py\\h5f.pyx\u001b[0m in \u001b[0;36mh5py.h5f.open\u001b[1;34m()\u001b[0m\n",
      "\u001b[1;31mOSError\u001b[0m: Unable to open file (unable to open file: name = 'C:/Users/auchoa/Google Drive/- DEVELOP/_Github/Similaridades-entre-PPGs/modelos/0_d2v-teses-topicos_model.mm.docvecs.vectors_docs.hdf5', errno = 2, error message = 'No such file or directory', flags = 0, o_flags = 0)"
     ]
    }
   ],
   "source": [
    "imp.reload(GSP)\n",
    "gsp=GSP.Graficos()\n",
    "gsp.grafo_ppgs()"
   ]
  },
  {
   "cell_type": "markdown",
   "metadata": {},
   "source": [
    "# Lista de PPGs e suas características semânticas\n",
    "***\n",
    "* Abaixo, a lista com todos os PPGs processados.\n",
    "* Além da IES e UF correspondentes, cada PPG é acompanhado por listas de conceitos que caracterizam sua produção.\n",
    "* Utilize à vontade o **filtro e indexação** disponiveis nos **cabeçalhos de cada coluna**.\n",
    "* Caso queira ler todo o conteúdo de um campo longo, marque-o com **duplo-clique** e copie-o para seu documento/nota.\n",
    "***\n",
    "**Legendas:**\n",
    "\n",
    "**Conceitos mais frequentes**: termos semanticamente relevantes mais presentes em toda a produção (teses e dissertações) do PPG.\n",
    "\n",
    "**Conceitos particulares ao PPG**: termos mais caracteísticos da produção, o que melhor a distingue das produções de outros PPGs. Não confundir com termos meramente mais frequentes.\n"
   ]
  },
  {
   "cell_type": "code",
   "execution_count": null,
   "metadata": {
    "hide_input": false,
    "init_cell": true,
    "tags": [
     "=>main"
    ]
   },
   "outputs": [],
   "source": [
    "df = gsp.df_ppgs[['nm_programa_ies', 'sg_entidade_ensino', 'nm_area_avaliacao','sg_uf_programa','bow','tfidf']]\\\n",
    "                            .sort_values(by=['sg_uf_programa','nm_area_avaliacao'])\n",
    "df.columns = ['Nome','IES','Área','UF','Conceitos mais frequentes','Conceitos particulares ao PPG']\n",
    "qg = qgrid.show_grid(df,\\\n",
    "                show_toolbar=True,\\\n",
    "\t\t\t\tgrid_options={\\\n",
    "\t\t\t\t\t\t\t'forceFitColumns': False, \\\n",
    "\t\t\t\t\t\t\t'editable': False, \\\n",
    "\t\t\t\t\t\t\t'fullWidthRows': True \\\n",
    "\t\t\t\t\t\t\t}, \\\n",
    "\t\t\t\tcolumn_options={\\\n",
    "\t\t\t\t\t\t\t'enableTextSelectionOnCells':True,\\\n",
    "\t\t\t\t\t\t\t'enableColumnReorder':True \\\n",
    "\t\t\t\t\t\t\t},\\\n",
    "\t\t\t\tcolumn_definitions={'Conceitos mais frequentes':{'width':500}, \\\n",
    "                                    'Conceitos particulares ao PPG':{'width':500}, \\\n",
    "                                    'Nome': {'width':240}, \\\n",
    "                                    '_id': {'width':120}, \\\n",
    "                                    'IES': {'width':40}, \\\n",
    "                                    'UF':{'width':40}})\n",
    "display(qg)"
   ]
  },
  {
   "cell_type": "code",
   "execution_count": null,
   "metadata": {},
   "outputs": [],
   "source": []
  }
 ],
 "metadata": {
  "celltoolbar": "Tags",
  "hide_input": false,
  "kernelspec": {
   "display_name": "Python 3",
   "language": "python",
   "name": "python3"
  },
  "language_info": {
   "codemirror_mode": {
    "name": "ipython",
    "version": 3
   },
   "file_extension": ".py",
   "mimetype": "text/x-python",
   "name": "python",
   "nbconvert_exporter": "python",
   "pygments_lexer": "ipython3",
   "version": "3.7.7"
  },
  "toc": {
   "base_numbering": 1,
   "nav_menu": {},
   "number_sections": true,
   "sideBar": true,
   "skip_h1_title": false,
   "title_cell": "Conteúdo",
   "title_sidebar": "Visualizações",
   "toc_cell": true,
   "toc_position": {},
   "toc_section_display": true,
   "toc_window_display": true
  }
 },
 "nbformat": 4,
 "nbformat_minor": 4
}
