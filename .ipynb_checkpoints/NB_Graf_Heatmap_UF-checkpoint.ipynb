{
 "cells": [
  {
   "cell_type": "markdown",
   "id": "0f034479",
   "metadata": {},
   "source": [
    "**Por favor, dê alguns instantes. Os módulos necessários estão sendo carregados.**"
   ]
  },
  {
   "cell_type": "code",
   "execution_count": 1,
   "id": "69462d8c",
   "metadata": {
    "hide_input": true,
    "init_cell": true,
    "scrolled": true
   },
   "outputs": [
    {
     "data": {
      "text/html": [
       "        <script type=\"text/javascript\">\n",
       "        window.PlotlyConfig = {MathJaxConfig: 'local'};\n",
       "        if (window.MathJax) {MathJax.Hub.Config({SVG: {font: \"STIX-Web\"}});}\n",
       "        if (typeof require !== 'undefined') {\n",
       "        require.undef(\"plotly\");\n",
       "        requirejs.config({\n",
       "            paths: {\n",
       "                'plotly': ['https://cdn.plot.ly/plotly-latest.min']\n",
       "            }\n",
       "        });\n",
       "        require(['plotly'], function(Plotly) {\n",
       "            window._Plotly = Plotly;\n",
       "        });\n",
       "        }\n",
       "        </script>\n",
       "        "
      ]
     },
     "metadata": {},
     "output_type": "display_data"
    }
   ],
   "source": [
    "# Execute <click-Run> esta célula caso ela não execute automaticamente\n",
    "%load_ext autoreload\n",
    "%autoreload 2\n",
    "\n",
    "from IPython.core.interactiveshell import InteractiveShell\n",
    "InteractiveShell.ast_node_interactivity = \"all\"\n",
    "\n",
    "import imp\n",
    "import sys\n",
    "sys.path.append('..')\n",
    "\n",
    "import graficos_heatmap_uf_distrib as HEAT\n",
    "heat = HEAT.HeatmapUF()"
   ]
  },
  {
   "cell_type": "markdown",
   "id": "bbfe6c73",
   "metadata": {},
   "source": [
    "# Casos de PPGs similares na entre UFs e Áreas iguais e diferentes\n",
    "***\n",
    "Esta visualização visa prover uma rápida localização das UFs com casos de PPGs similares na mesma área de avaliação e desta com outras áreas.\n",
    "\n",
    "A semelhança (aqui chamada similaridade) entre PPGs é uma métrica comparativa, não absoluta, que se destina a dar uma ordem de grandeza à proximidade semântica de produções.\n",
    "\n",
    "As similaridades aqui exibidas derivam e se aplicam exclusivamente ao corpus utilizado. Como explicado na [documentação](./NB_Doc_Similaridades_entre_PPGs_v3.ipynb), é uma medida de proximidade probabilística entre o conteúdo das aprox. 430 mil teses e dissetações defendidas entre 2013 a 2018 pelos aprox. 4.300 programas de pós-graduação.\n",
    "\n",
    "As similaridades aqui presentadas foram previamente calculadas PPG a PPG. Por isso, o tempo de resposta muito rápido.\n",
    "***\n",
    "* ***Área***: a área de avaliação a se tomar como referência.\n",
    "* ***Similaridade mínima***: um valor que pode variar entre 0.3 e  0.9 (casos quase identicos). O seu máximo é ajustado em função da maior similaridade encontrada entre um PPG da área e algum outro, da mesma ou de outra área de avaliação.\n",
    "* Pontos em **VERMELHO** indicam casos de PPGs da UF em X e da UF em Y que pertencem a mesma área e têm similaridade mútua igual ou acima da selecionada.\n",
    "* Quadros em **VERDE** indicam casos de PPGs da UF em X e da UF em Y que pertencem a áreas diferentes da selecionada e têm similaridade mútua igual ou acima da selecionada.\n",
    "* A intensidade das cores indica a quantidade de casos segundo as escalas de cor correspondentes à direita.\n",
    "***\n",
    "**Caso o menu abaixo não carregue automaticamente após 30s** (enquanto estiver com \"[\\*]\"), **clique na célula** e em seguida no botão ***Run*** no menu superior.\n",
    "\n",
    "**Após feita qualquer seleção**, aguarde alguns instantes até o gráfico se ajustar."
   ]
  },
  {
   "cell_type": "code",
   "execution_count": 3,
   "id": "5bb33e50",
   "metadata": {
    "init_cell": true
   },
   "outputs": [
    {
     "data": {
      "text/html": [
       "        <script type=\"text/javascript\">\n",
       "        window.PlotlyConfig = {MathJaxConfig: 'local'};\n",
       "        if (window.MathJax) {MathJax.Hub.Config({SVG: {font: \"STIX-Web\"}});}\n",
       "        if (typeof require !== 'undefined') {\n",
       "        require.undef(\"plotly\");\n",
       "        requirejs.config({\n",
       "            paths: {\n",
       "                'plotly': ['https://cdn.plot.ly/plotly-latest.min']\n",
       "            }\n",
       "        });\n",
       "        require(['plotly'], function(Plotly) {\n",
       "            window._Plotly = Plotly;\n",
       "        });\n",
       "        }\n",
       "        </script>\n",
       "        "
      ]
     },
     "metadata": {},
     "output_type": "display_data"
    },
    {
     "data": {
      "application/vnd.jupyter.widget-view+json": {
       "model_id": "c7e4af55211a4ba6bb7432b63ce9af5a",
       "version_major": 2,
       "version_minor": 0
      },
      "text/plain": [
       "VBox(children=(HBox(children=(Dropdown(description='Área', index=32, layout=Layout(width='40%'), options=(('Ad…"
      ]
     },
     "metadata": {},
     "output_type": "display_data"
    }
   ],
   "source": [
    "heat.uf_uf_din()"
   ]
  },
  {
   "cell_type": "markdown",
   "id": "43b666a7",
   "metadata": {},
   "source": [
    "# Lista de PPGs e seu correspondente mais similares\n",
    "\n",
    "**Nota**: na tabela a seguir, para cada PPG é indicado **somente** o caso de maior similaridade com outro PPG. "
   ]
  },
  {
   "cell_type": "code",
   "execution_count": 4,
   "id": "20a3b268",
   "metadata": {
    "init_cell": true
   },
   "outputs": [
    {
     "data": {
      "application/vnd.jupyter.widget-view+json": {
       "model_id": "754d41daa8484f6185ffdcbf04cb8d9b",
       "version_major": 2,
       "version_minor": 0
      },
      "text/plain": [
       "QgridWidget(grid_options={'fullWidthRows': True, 'syncColumnCellResize': True, 'forceFitColumns': False, 'defa…"
      ]
     },
     "metadata": {},
     "output_type": "display_data"
    }
   ],
   "source": [
    "heat.tabela_ppgs()"
   ]
  },
  {
   "cell_type": "code",
   "execution_count": null,
   "id": "6710a608",
   "metadata": {},
   "outputs": [],
   "source": []
  }
 ],
 "metadata": {
  "celltoolbar": "Initialization Cell",
  "hide_input": false,
  "kernelspec": {
   "display_name": "Python 3",
   "language": "python",
   "name": "python3"
  },
  "language_info": {
   "codemirror_mode": {
    "name": "ipython",
    "version": 3
   },
   "file_extension": ".py",
   "mimetype": "text/x-python",
   "name": "python",
   "nbconvert_exporter": "python",
   "pygments_lexer": "ipython3",
   "version": "3.8.8"
  },
  "toc": {
   "base_numbering": 1,
   "nav_menu": {},
   "number_sections": true,
   "sideBar": true,
   "skip_h1_title": false,
   "title_cell": "Table of Contents",
   "title_sidebar": "Contents",
   "toc_cell": false,
   "toc_position": {},
   "toc_section_display": true,
   "toc_window_display": false
  }
 },
 "nbformat": 4,
 "nbformat_minor": 5
}
