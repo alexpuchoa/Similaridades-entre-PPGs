{
 "cells": [
  {
   "cell_type": "markdown",
   "metadata": {
    "toc": true
   },
   "source": [
    "<h1>Conteúdo<span class=\"tocSkip\"></span></h1>\n",
    "<div class=\"toc\"><ul class=\"toc-item\"><li><span><a href=\"#Similaridade-entre-PPGs-de-mesmas-área,-IES-e/ou-UF\" data-toc-modified-id=\"Similaridade-entre-PPGs-de-mesmas-área,-IES-e/ou-UF-1\"><span class=\"toc-item-num\">1&nbsp;&nbsp;</span>Similaridade entre PPGs de mesmas área, IES e/ou UF</a></span></li></ul></div>"
   ]
  },
  {
   "cell_type": "code",
   "execution_count": 1,
   "metadata": {
    "hide_input": true,
    "init_cell": true
   },
   "outputs": [],
   "source": [
    "%load_ext autoreload\n",
    "%autoreload 2"
   ]
  },
  {
   "cell_type": "code",
   "execution_count": 2,
   "metadata": {
    "hide_input": true,
    "init_cell": true
   },
   "outputs": [],
   "source": [
    "from IPython.core.interactiveshell import InteractiveShell\n",
    "InteractiveShell.ast_node_interactivity = \"all\""
   ]
  },
  {
   "cell_type": "code",
   "execution_count": 3,
   "metadata": {
    "hide_input": true,
    "init_cell": true,
    "scrolled": false
   },
   "outputs": [
    {
     "name": "stdout",
     "output_type": "stream",
     "text": [
      "** Capes NLP Modules loaded **\n"
     ]
    }
   ],
   "source": [
    "import imp\n",
    "import sys\n",
    "sys.path.append('..')\n",
    "\n",
    "from capes_nlp import graficos_similaridades_entre_ppgs_v4 as GSP"
   ]
  },
  {
   "cell_type": "markdown",
   "metadata": {
    "deletable": false,
    "editable": false
   },
   "source": [
    "# Similaridade entre PPGs de mesmas área, IES e/ou UF"
   ]
  },
  {
   "cell_type": "markdown",
   "metadata": {},
   "source": [
    "***\n",
    "* O intuito dessa visualização é possibilitar a identificação rápida de PPGs de mesmas áreas de avaliação, UFs e ou IES que exibam semelhanças entre as suas produções acadêmicas (teses e dissertações).\n",
    "* A semelhança (aqui chamada similaridade) entre duas entidades é uma métrica comparativa, não absoluta, que se destina a dar uma ordem de grandeza à proximidade semântica de produções.\n",
    "* As similaridades aqui exibidas derivam e se aplicam exclusivamente ao corpus utilizado. Como explicado na [documentação](./NB_Doc_Similaridades_entre_PPGs_v3.ipynb), é uma medida de proximidade probabilística entre o conteúdo das aprox. 430 mil teses e dissetações defendidas entre 2013 a 2018 pelos aprox. 4.300 programas de pós-graduação.\n",
    "* Com o intuito de prover uma referência do que pode ser considerada uma similaridade alta ou baixa nesse corpus, é adotada uma escala de percentis que vai da mais baixa similaridade encontrada entre dois PPGs a mais alta. \n",
    "* Os cálculos de similaridade semântica são aqui realizados dinâmicamente. Por isso, a quantidade de PPGs selecionados tem grande impacto no desempenho e no tempo de resposta.\n",
    "***\n",
    "Faça sua seleção de filtros e clique no botão **Run Interact** para submeter a sua busca.\n",
    " \n",
    "**Área de Partida**: seleciona a área cujos PPGs servirão como referência de partida para a busca de similaridades.\n",
    "\n",
    "**Área dos Similares**: permite se restringir a busca aos PPGs de uma ou mais áreas específicas. Use *<ctrl+click>* ou *<ctrl+shift>* para selecionar várias. Caso não se queira restringir a nenhuma área, selecione *\"Todas\"*.\n",
    "\n",
    "**UF**: fitra os PPGs de partida por sua unidade da federação.\n",
    "\n",
    "**Percentil**: seleciona a faixa de *similaridades* toleráveis, em %. As *similaridades* mais altas estão nos *percentis* também mais elevados.\n",
    "\n",
    "**Somente PPGs de mesma UF**: garante que somente casos de semelhanças entre PPGs de *mesma UF* serão recuperados, caso alguma *UF* tenha sido indicada.\n",
    "\n",
    "**Somente PPGs de mesma IES**: fará com que somente casos de semelhanças entre PPGs que sejam da *mesma IES* sejam recuperados.\n",
    "***\n",
    "**Legenda do grafo**\n",
    "* As cores são meramente ilustrativas e visam tornar o reconhecimento dos casos de UFs e/ou áreas diferentes mais fácil.\n",
    "* O tamanho dos círculos do grafo indicam a quantidade de teses/dissertações dos PPGs correspondentes\n",
    "* A cor interna de cada círculo corresponde a **Área** à qual o PPG pertence, e a cor da borda a sua **UF**\n",
    "* Arestas ligam PPGs que possuem similaridade igual ou superior a do percentil selecionado\n",
    "* Para detalhes dos casos encontrados, consulte a tabela logo abaixo do grafo"
   ]
  },
  {
   "cell_type": "code",
   "execution_count": 4,
   "metadata": {
    "init_cell": true,
    "scrolled": false
   },
   "outputs": [
    {
     "data": {
      "text/plain": [
       "<module 'capes_nlp.graficos_similaridades_entre_ppgs_v4' from 'C:\\\\Users\\\\alexandre.uchoa\\\\Google Drive\\\\- DEVELOP\\\\capes_nlp\\\\graficos_similaridades_entre_ppgs_v4.py'>"
      ]
     },
     "execution_count": 4,
     "metadata": {},
     "output_type": "execute_result"
    },
    {
     "name": "stdout",
     "output_type": "stream",
     "text": [
      "\n",
      "** Clique nesta célula e no botão \"Run\" do menu. \n",
      "Por favor, aguarde pois vários módulos estão sendo carregados...\n"
     ]
    },
    {
     "data": {
      "application/vnd.jupyter.widget-view+json": {
       "model_id": "e06630de828d42ee92e1964e168da2e6",
       "version_major": 2,
       "version_minor": 0
      },
      "text/plain": [
       "VBox(children=(HBox(children=(VBox(children=(Dropdown(description='Area de Partida', options=(('Todas', 0), ('…"
      ]
     },
     "metadata": {},
     "output_type": "display_data"
    }
   ],
   "source": [
    "imp.reload(GSP)\n",
    "gsp=GSP.Graficos()\n",
    "gsp.grafo_ppgs()"
   ]
  },
  {
   "cell_type": "code",
   "execution_count": null,
   "metadata": {},
   "outputs": [],
   "source": []
  }
 ],
 "metadata": {
  "celltoolbar": "Initialization Cell",
  "hide_input": true,
  "kernelspec": {
   "display_name": "Python 3",
   "language": "python",
   "name": "python3"
  },
  "language_info": {
   "codemirror_mode": {
    "name": "ipython",
    "version": 3
   },
   "file_extension": ".py",
   "mimetype": "text/x-python",
   "name": "python",
   "nbconvert_exporter": "python",
   "pygments_lexer": "ipython3",
   "version": "3.7.7"
  },
  "toc": {
   "base_numbering": 1,
   "nav_menu": {},
   "number_sections": true,
   "sideBar": true,
   "skip_h1_title": false,
   "title_cell": "Conteúdo",
   "title_sidebar": "Visualizações",
   "toc_cell": true,
   "toc_position": {},
   "toc_section_display": true,
   "toc_window_display": true
  }
 },
 "nbformat": 4,
 "nbformat_minor": 4
}
