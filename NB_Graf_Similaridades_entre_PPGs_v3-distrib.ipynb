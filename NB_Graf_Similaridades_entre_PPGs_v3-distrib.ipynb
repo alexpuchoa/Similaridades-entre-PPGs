{
 "cells": [
  {
   "cell_type": "markdown",
   "metadata": {
    "deletable": false,
    "editable": false,
    "toc": true
   },
   "source": [
    "<h1>Conteúdo<span class=\"tocSkip\"></span></h1>\n",
    "<div class=\"toc\"><ul class=\"toc-item\"><li><span><a href=\"#Similaridade-entre-PPGs-de-mesmas-área,-IES-e/ou-UF\" data-toc-modified-id=\"Similaridade-entre-PPGs-de-mesmas-área,-IES-e/ou-UF-1\"><span class=\"toc-item-num\">1&nbsp;&nbsp;</span>Similaridade entre PPGs de mesmas área, IES e/ou UF</a></span></li><li><span><a href=\"#Lista-de-PPGs-e-suas-características-semânticas\" data-toc-modified-id=\"Lista-de-PPGs-e-suas-características-semânticas-2\"><span class=\"toc-item-num\">2&nbsp;&nbsp;</span>Lista de PPGs e suas características semânticas</a></span></li></ul></div>"
   ]
  },
  {
   "cell_type": "code",
   "execution_count": 18,
   "metadata": {
    "hide_input": true,
    "init_cell": true
   },
   "outputs": [
    {
     "name": "stdout",
     "output_type": "stream",
     "text": [
      "The autoreload extension is already loaded. To reload it, use:\n",
      "  %reload_ext autoreload\n"
     ]
    }
   ],
   "source": [
    "%load_ext autoreload\n",
    "%autoreload 2\n",
    "\n",
    "from IPython.core.interactiveshell import InteractiveShell\n",
    "InteractiveShell.ast_node_interactivity = \"all\"\n",
    "\n",
    "import qgrid\n",
    "\n",
    "import imp\n",
    "import sys\n",
    "\n",
    "sys.path.append('..')\n",
    "\n",
    "import graficos_similaridades_entre_ppgs_v5_distrib as GSP"
   ]
  },
  {
   "cell_type": "markdown",
   "metadata": {
    "deletable": false,
    "editable": false
   },
   "source": [
    "# Similaridade entre PPGs de mesmas área, IES e/ou UF"
   ]
  },
  {
   "cell_type": "markdown",
   "metadata": {},
   "source": [
    "***\n",
    "* O intuito dessa visualização é possibilitar a identificação rápida de PPGs de mesmas áreas de avaliação, UFs e ou IES que exibam semelhanças entre as suas produções acadêmicas (teses e dissertações).\n",
    "* A semelhança (aqui chamada similaridade) entre duas entidades é uma métrica comparativa, não absoluta, que se destina a dar uma ordem de grandeza à proximidade semântica de produções.\n",
    "* As similaridades aqui exibidas derivam e se aplicam exclusivamente ao corpus utilizado. Como explicado na [documentação](./NB_Doc_Similaridades_entre_PPGs_v3.ipynb), é uma medida de proximidade probabilística entre o conteúdo das aprox. 430 mil teses e dissetações defendidas entre 2013 a 2018 pelos aprox. 4.300 programas de pós-graduação.\n",
    "* Com o intuito de prover uma referência do que pode ser considerada uma similaridade alta ou baixa nesse corpus, é adotada uma escala de percentis que vai da mais baixa similaridade encontrada entre dois PPGs a mais alta. \n",
    "* Os cálculos de similaridade semântica são aqui realizados dinâmicamente. Por isso, a quantidade de PPGs selecionados tem grande impacto no desempenho e no tempo de resposta.\n",
    "***\n",
    "Faça sua seleção de filtros e clique no botão **Run Interact** para submeter a sua busca.\n",
    " \n",
    "**Área de Partida**: seleciona a área cujos PPGs servirão como referência de partida para a busca de similaridades.\n",
    "\n",
    "**Área dos Similares**: permite se restringir a busca aos PPGs de uma ou mais áreas específicas. Use *<ctrl+click>* ou *<ctrl+shift>* para selecionar várias. Caso não se queira restringir a nenhuma área, selecione *\"Todas\"*.\n",
    "\n",
    "**UF**: fitra os PPGs de partida por sua unidade da federação.\n",
    "\n",
    "**Percentil**: seleciona a faixa de *similaridades* toleráveis, em %. As *similaridades* mais altas estão nos *percentis* também mais elevados.\n",
    "\n",
    "**Somente PPGs de mesma UF**: garante que somente casos de semelhanças entre PPGs de *mesma UF* serão recuperados, caso alguma *UF* tenha sido indicada.\n",
    "\n",
    "**Somente PPGs de mesma IES**: fará com que somente casos de semelhanças entre PPGs que sejam da *mesma IES* sejam recuperados.\n",
    "***\n",
    "**Legenda do grafo**\n",
    "* As cores são meramente ilustrativas e visam tornar o reconhecimento dos casos de UFs e/ou áreas diferentes mais fácil.\n",
    "* O tamanho dos círculos do grafo indicam a quantidade de teses/dissertações dos PPGs correspondentes\n",
    "* A cor interna de cada círculo corresponde a **Área** à qual o PPG pertence, e a cor da borda a sua **UF**\n",
    "* Arestas ligam PPGs que possuem similaridade igual ou superior a do percentil selecionado\n",
    "* Para detalhes dos casos encontrados, consulte a tabela logo abaixo do grafo\n",
    "***\n",
    "**Atenção:** caso o menu abaixo não carregue automaticamente após 30s (enquanto estiver com \"[\\*]\"), **clique na célula** e em seguida no botão ***Run*** do menu superior.\n",
    "**Clique na célula** também para obter diferentes formas de rolagem uma vez apresentados os resultados."
   ]
  },
  {
   "cell_type": "code",
   "execution_count": 19,
   "metadata": {
    "hide_input": false,
    "init_cell": true,
    "scrolled": false
   },
   "outputs": [
    {
     "data": {
      "text/plain": [
       "<module 'graficos_similaridades_entre_ppgs_v5_distrib' from 'C:\\\\Users\\\\alexandre.uchoa\\\\Google Drive\\\\- DEVELOP\\\\_Github\\\\Similaridades-entre-PPGs\\\\graficos_similaridades_entre_ppgs_v5_distrib.py'>"
      ]
     },
     "execution_count": 19,
     "metadata": {},
     "output_type": "execute_result"
    },
    {
     "data": {
      "application/vnd.jupyter.widget-view+json": {
       "model_id": "",
       "version_major": 2,
       "version_minor": 0
      },
      "text/plain": [
       "VBox(children=(HBox(children=(VBox(children=(Dropdown(description='Area de Partida', options=(('Todas', 0), ('…"
      ]
     },
     "metadata": {},
     "output_type": "display_data"
    }
   ],
   "source": [
    "imp.reload(GSP)\n",
    "gsp=GSP.Graficos()\n",
    "gsp.grafo_ppgs()"
   ]
  },
  {
   "cell_type": "markdown",
   "metadata": {},
   "source": [
    "# Lista de PPGs e suas características semânticas\n",
    "***\n",
    "* Abaixo, a lista com todos os PPGs processados.\n",
    "* Além da IES e UF correspondentes, cada PPG é acompanhado por listas de conceitos que caracterizam sua produção.\n",
    "* Utilize à vontade o **filtro e indexação** disponiveis nos **cabeçalhos de cada coluna**.\n",
    "* Caso queira ler todo o conteúdo de um campo longo, marque-o com **duplo-clique** e copie-o para seu documento/nota.\n",
    "***\n",
    "**Legendas:**\n",
    "\n",
    "**Conceitos mais frequentes**: termos semanticamente relevantes mais presentes em toda a produção (teses e dissertações) do PPG.\n",
    "\n",
    "**Conceitos particulares ao PPG**: termos mais caracteísticos da produção, o que melhor a distingue das produções de outros PPGs. Não confundir com termos meramente mais frequentes.\n",
    "***\n",
    "**Atenção:** caso a tabela a seguir não carregue automaticamente, **clique na célula abaixo** e em seguida no botão ***Run*** do menu superior."
   ]
  },
  {
   "cell_type": "code",
   "execution_count": 20,
   "metadata": {
    "hide_input": false,
    "init_cell": true,
    "scrolled": true
   },
   "outputs": [
    {
     "data": {
      "application/vnd.jupyter.widget-view+json": {
       "model_id": "",
       "version_major": 2,
       "version_minor": 0
      },
      "text/plain": [
       "QgridWidget(grid_options={'fullWidthRows': True, 'syncColumnCellResize': True, 'forceFitColumns': False, 'defa…"
      ]
     },
     "metadata": {},
     "output_type": "display_data"
    }
   ],
   "source": [
    "gsp.lista_ppgs()"
   ]
  },
  {
   "cell_type": "code",
   "execution_count": 38,
   "metadata": {
    "deletable": false,
    "editable": false,
    "hide_input": true
   },
   "outputs": [],
   "source": [
    "qg = qgrid.show_grid(df,\\\n",
    "                show_toolbar=True,\\\n",
    "\t\t\t\tgrid_options={\\\n",
    "\t\t\t\t\t\t\t'forceFitColumns': False, \\\n",
    "\t\t\t\t\t\t\t'editable': False, \\\n",
    "\t\t\t\t\t\t\t'fullWidthRows': True \\\n",
    "\t\t\t\t\t\t\t}, \\\n",
    "\t\t\t\tcolumn_options={\\\n",
    "\t\t\t\t\t\t\t'enableTextSelectionOnCells':True,\\\n",
    "\t\t\t\t\t\t\t'enableColumnReorder':True \\\n",
    "\t\t\t\t\t\t\t},\\\n",
    "\t\t\t\tcolumn_definitions={'Conceitos mais frequentes':{'width':500}, \\\n",
    "                                    'Conceitos particulares ao PPG':{'width':500}, \\\n",
    "                                    'Nome': {'width':240}, \\\n",
    "                                    '_id': {'width':120}, \\\n",
    "                                    'IES': {'width':40}, \\\n",
    "                                    'UF':{'width':40}})\n"
   ]
  }
 ],
 "metadata": {
  "celltoolbar": "Initialization Cell",
  "hide_input": true,
  "kernelspec": {
   "display_name": "Python 3",
   "language": "python",
   "name": "python3"
  },
  "language_info": {
   "codemirror_mode": {
    "name": "ipython",
    "version": 3
   },
   "file_extension": ".py",
   "mimetype": "text/x-python",
   "name": "python",
   "nbconvert_exporter": "python",
   "pygments_lexer": "ipython3",
   "version": "3.7.7"
  },
  "toc": {
   "base_numbering": 1,
   "nav_menu": {},
   "number_sections": true,
   "sideBar": true,
   "skip_h1_title": false,
   "title_cell": "Conteúdo",
   "title_sidebar": "Visualizações",
   "toc_cell": true,
   "toc_position": {},
   "toc_section_display": true,
   "toc_window_display": true
  }
 },
 "nbformat": 4,
 "nbformat_minor": 4
}
